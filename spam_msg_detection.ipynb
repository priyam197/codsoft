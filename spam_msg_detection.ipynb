{
  "nbformat": 4,
  "nbformat_minor": 0,
  "metadata": {
    "colab": {
      "provenance": [],
      "authorship_tag": "ABX9TyNsMv/T53oRKxaeB6b5X7u9",
      "include_colab_link": true
    },
    "kernelspec": {
      "name": "python3",
      "display_name": "Python 3"
    },
    "language_info": {
      "name": "python"
    }
  },
  "cells": [
    {
      "cell_type": "markdown",
      "metadata": {
        "id": "view-in-github",
        "colab_type": "text"
      },
      "source": [
        "<a href=\"https://colab.research.google.com/github/priyam197/codsoft/blob/main/spam_msg_detection.ipynb\" target=\"_parent\"><img src=\"https://colab.research.google.com/assets/colab-badge.svg\" alt=\"Open In Colab\"/></a>"
      ]
    },
    {
      "cell_type": "markdown",
      "source": [
        "actual"
      ],
      "metadata": {
        "id": "7KjHUl-RImlK"
      }
    },
    {
      "cell_type": "code",
      "source": [
        "# Install required libraries\n",
        "# !pip install -q scikit-learn pandas matplotlib seaborn"
      ],
      "metadata": {
        "id": "AqAFgYu4DbZ5"
      },
      "execution_count": null,
      "outputs": []
    },
    {
      "cell_type": "code",
      "source": [
        "# Imports\n",
        "import pandas as pd\n",
        "import matplotlib.pyplot as plt\n",
        "import seaborn as sns\n",
        "from sklearn.model_selection import train_test_split\n",
        "from sklearn.feature_extraction.text import TfidfVectorizer\n",
        "from sklearn.preprocessing import LabelEncoder\n",
        "from sklearn.naive_bayes import MultinomialNB\n",
        "from sklearn.linear_model import LogisticRegression\n",
        "from sklearn.svm import LinearSVC\n",
        "from sklearn.metrics import (\n",
        "    accuracy_score, classification_report, confusion_matrix, ConfusionMatrixDisplay\n",
        ")\n"
      ],
      "metadata": {
        "id": "afHmUodbDVnB"
      },
      "execution_count": null,
      "outputs": []
    },
    {
      "cell_type": "code",
      "source": [
        "# Load Dataset\n",
        "df = pd.read_csv(\"spam.csv\", encoding='latin1')[['v1', 'v2']]\n",
        "df.columns = ['label', 'message']\n",
        "\n",
        "# Encode Labels: ham -> 0, spam -> 1\n",
        "df['label'] = LabelEncoder().fit_transform(df['label'])\n",
        "\n",
        "# Train-Test Split\n",
        "X_train, X_test, y_train, y_test = train_test_split(\n",
        "    df['message'], df['label'], test_size=0.2, random_state=42\n",
        ")\n"
      ],
      "metadata": {
        "id": "uBuS195mDW2J"
      },
      "execution_count": null,
      "outputs": []
    },
    {
      "cell_type": "code",
      "source": [
        "# Convert text messages to TF-IDF features\n",
        "vectorizer = TfidfVectorizer(stop_words='english', max_df=0.9)\n",
        "X_train_tfidf = vectorizer.fit_transform(X_train)\n",
        "X_test_tfidf = vectorizer.transform(X_test)\n"
      ],
      "metadata": {
        "id": "Y8bMxLjiDjfR"
      },
      "execution_count": null,
      "outputs": []
    },
    {
      "cell_type": "code",
      "source": [
        "# Define Models\n",
        "models = {\n",
        "    \"Naive Bayes\": MultinomialNB(),\n",
        "    \"Logistic Regression\": LogisticRegression(max_iter=1000),\n",
        "    \"Support Vector Machine\": LinearSVC()\n",
        "}\n",
        "\n",
        "# Train & Evaluate\n",
        "results = {}\n",
        "for name, model in models.items():\n",
        "    model.fit(X_train_tfidf, y_train)\n",
        "    y_pred = model.predict(X_test_tfidf)\n",
        "    acc = accuracy_score(y_test, y_pred)\n",
        "    report = classification_report(y_test, y_pred, target_names=[\"Ham\", \"Spam\"], output_dict=True)\n",
        "    results[name] = {\n",
        "        \"model\": model,\n",
        "        \"accuracy\": acc,\n",
        "        \"report\": report,\n",
        "        \"y_pred\": y_pred\n",
        "    }\n",
        "\n",
        "# Display Summary Table\n",
        "summary = []\n",
        "for name, metrics in results.items():\n",
        "    r = metrics[\"report\"]\n",
        "    summary.append({\n",
        "        \"Model\": name,\n",
        "        \"Accuracy\": round(metrics[\"accuracy\"] * 100, 2),\n",
        "        \"Spam Precision\": round(r[\"Spam\"][\"precision\"] * 100, 2),\n",
        "        \"Spam Recall\": round(r[\"Spam\"][\"recall\"] * 100, 2),\n",
        "        \"Spam F1-Score\": round(r[\"Spam\"][\"f1-score\"] * 100, 2)\n",
        "    })\n",
        "\n",
        "summary_df = pd.DataFrame(summary)\n",
        "summary_df\n"
      ],
      "metadata": {
        "id": "YFPqT7cuDlma"
      },
      "execution_count": null,
      "outputs": []
    },
    {
      "cell_type": "code",
      "source": [
        "# Plot confusion matrices in a row\n",
        "fig, axes = plt.subplots(1, 3, figsize=(18, 5))\n",
        "colors = ['Purples', 'Greens', 'Oranges']\n",
        "\n",
        "for ax, (name, metrics), cmap in zip(axes, results.items(), colors):\n",
        "    cm = confusion_matrix(y_test, metrics[\"y_pred\"])\n",
        "    disp = ConfusionMatrixDisplay(confusion_matrix=cm, display_labels=[\"Ham\", \"Spam\"])\n",
        "    disp.plot(ax=ax, cmap=cmap, values_format='d', colorbar=False)\n",
        "    ax.set_title(f\"{name}\")\n",
        "    ax.grid(False)\n",
        "\n",
        "plt.suptitle(\"Confusion Matrices of Classifiers\", fontsize=16)\n",
        "plt.tight_layout()\n",
        "plt.show()\n"
      ],
      "metadata": {
        "id": "2QDxpE_QDo1O"
      },
      "execution_count": null,
      "outputs": []
    },
    {
      "cell_type": "code",
      "source": [
        "# %%writefile app.py"
      ],
      "metadata": {
        "id": "VGHzaU-zDr8n"
      },
      "execution_count": null,
      "outputs": []
    },
    {
      "cell_type": "code",
      "source": [
        "import joblib\n",
        "\n",
        "# Save after training\n",
        "joblib.dump(model, \"spam_model.pkl\")\n",
        "joblib.dump(vectorizer, \"tfidf_vectorizer.pkl\")\n"
      ],
      "metadata": {
        "id": "WDN0d1JrD4UP"
      },
      "execution_count": null,
      "outputs": []
    },
    {
      "cell_type": "code",
      "source": [
        "! wget -q -O - ipv4.icanhazip.com"
      ],
      "metadata": {
        "id": "aRVqggoHEbW-"
      },
      "execution_count": null,
      "outputs": []
    },
    {
      "cell_type": "code",
      "source": [
        "# !npm install localtunnel"
      ],
      "metadata": {
        "id": "rEbewxPtGG5i"
      },
      "execution_count": null,
      "outputs": []
    },
    {
      "cell_type": "code",
      "source": [
        "!streamlit run app.py &>/content/logs.txt &"
      ],
      "metadata": {
        "id": "s2TvJTyxEmDL"
      },
      "execution_count": null,
      "outputs": []
    },
    {
      "cell_type": "code",
      "source": [
        "!npx localtunnel --port 8501"
      ],
      "metadata": {
        "colab": {
          "base_uri": "https://localhost:8080/"
        },
        "id": "kKB1ewG-FFcC",
        "outputId": "c92e895e-c3f8-4594-9914-956a4772b09e"
      },
      "execution_count": 106,
      "outputs": [
        {
          "output_type": "stream",
          "name": "stdout",
          "text": [
            "\u001b[1G\u001b[0K⠙\u001b[1G\u001b[0Kyour url is: https://floppy-lions-stick.loca.lt\n",
            "^C\n"
          ]
        }
      ]
    },
    {
      "cell_type": "code",
      "source": [],
      "metadata": {
        "id": "VM3GVrcuKeu1"
      },
      "execution_count": null,
      "outputs": []
    }
  ]
}